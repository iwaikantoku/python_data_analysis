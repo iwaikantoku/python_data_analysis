{
 "cells": [
  {
   "cell_type": "markdown",
   "metadata": {
    "collapsed": true
   },
   "source": [
    "from __future__ import division\n",
    "from numpy.random import randn\n",
    "import numpy as np\n",
    "np.set_printoptions(precision=4, suppress=True)"
   ]
  },
  {
   "cell_type": "code",
   "execution_count": 2,
   "metadata": {
    "collapsed": true
   },
   "outputs": [],
   "source": [
    "arr = np.arange(10)"
   ]
  },
  {
   "cell_type": "code",
   "execution_count": 4,
   "metadata": {
    "collapsed": false
   },
   "outputs": [],
   "source": [
    "np.save('some_array.npy',arr)"
   ]
  },
  {
   "cell_type": "code",
   "execution_count": null,
   "metadata": {
    "collapsed": true
   },
   "outputs": [],
   "source": []
  },
  {
   "cell_type": "code",
   "execution_count": 5,
   "metadata": {
    "collapsed": false
   },
   "outputs": [
    {
     "data": {
      "text/plain": [
       "array([0, 1, 2, 3, 4, 5, 6, 7, 8, 9])"
      ]
     },
     "execution_count": 5,
     "metadata": {},
     "output_type": "execute_result"
    }
   ],
   "source": [
    "np.load('some_array.npy')"
   ]
  },
  {
   "cell_type": "code",
   "execution_count": 6,
   "metadata": {
    "collapsed": true
   },
   "outputs": [],
   "source": [
    "np.savez('array_archive.npz', a=arr, b=arr)"
   ]
  },
  {
   "cell_type": "code",
   "execution_count": 7,
   "metadata": {
    "collapsed": true
   },
   "outputs": [],
   "source": [
    "arch = np.load('array_archive.npz')"
   ]
  },
  {
   "cell_type": "code",
   "execution_count": 8,
   "metadata": {
    "collapsed": false
   },
   "outputs": [
    {
     "data": {
      "text/plain": [
       "array([0, 1, 2, 3, 4, 5, 6, 7, 8, 9])"
      ]
     },
     "execution_count": 8,
     "metadata": {},
     "output_type": "execute_result"
    }
   ],
   "source": [
    "arch['b']"
   ]
  },
  {
   "cell_type": "code",
   "execution_count": 9,
   "metadata": {
    "collapsed": false
   },
   "outputs": [
    {
     "name": "stdout",
     "output_type": "stream",
     "text": [
      "cat: array_ex.txt: No such file or directory\r\n"
     ]
    }
   ],
   "source": [
    "!cat  array_ex.txt"
   ]
  },
  {
   "cell_type": "code",
   "execution_count": 10,
   "metadata": {
    "collapsed": true
   },
   "outputs": [],
   "source": [
    "x  = np.array([[1.,2.,3.],[4.,5.,6.]])\n",
    "y = np.array([[6.,23.],[-1,7],[8,9]])"
   ]
  },
  {
   "cell_type": "code",
   "execution_count": 11,
   "metadata": {
    "collapsed": false
   },
   "outputs": [
    {
     "data": {
      "text/plain": [
       "array([[ 1.,  2.,  3.],\n",
       "       [ 4.,  5.,  6.]])"
      ]
     },
     "execution_count": 11,
     "metadata": {},
     "output_type": "execute_result"
    }
   ],
   "source": [
    "x"
   ]
  },
  {
   "cell_type": "code",
   "execution_count": 12,
   "metadata": {
    "collapsed": false
   },
   "outputs": [
    {
     "data": {
      "text/plain": [
       "array([[  6.,  23.],\n",
       "       [ -1.,   7.],\n",
       "       [  8.,   9.]])"
      ]
     },
     "execution_count": 12,
     "metadata": {},
     "output_type": "execute_result"
    }
   ],
   "source": [
    "y"
   ]
  },
  {
   "cell_type": "code",
   "execution_count": 13,
   "metadata": {
    "collapsed": false
   },
   "outputs": [
    {
     "data": {
      "text/plain": [
       "array([[  28.,   64.],\n",
       "       [  67.,  181.]])"
      ]
     },
     "execution_count": 13,
     "metadata": {},
     "output_type": "execute_result"
    }
   ],
   "source": [
    "x.dot(y)"
   ]
  },
  {
   "cell_type": "code",
   "execution_count": 14,
   "metadata": {
    "collapsed": false
   },
   "outputs": [
    {
     "data": {
      "text/plain": [
       "array([  6.,  15.])"
      ]
     },
     "execution_count": 14,
     "metadata": {},
     "output_type": "execute_result"
    }
   ],
   "source": [
    "np.dot(x,np.ones(3))"
   ]
  },
  {
   "cell_type": "code",
   "execution_count": 15,
   "metadata": {
    "collapsed": true
   },
   "outputs": [],
   "source": [
    "from numpy.linalg import inv,qr"
   ]
  },
  {
   "cell_type": "code",
   "execution_count": 16,
   "metadata": {
    "collapsed": true
   },
   "outputs": [],
   "source": [
    "X =randn(5,5)"
   ]
  },
  {
   "cell_type": "code",
   "execution_count": 17,
   "metadata": {
    "collapsed": true
   },
   "outputs": [],
   "source": [
    "mat = X.T.dot(X)"
   ]
  },
  {
   "cell_type": "code",
   "execution_count": 18,
   "metadata": {
    "collapsed": false
   },
   "outputs": [
    {
     "data": {
      "text/plain": [
       "array([[ 0.9331, -0.0657,  0.2939,  0.7116,  0.6357],\n",
       "       [-0.0657,  0.2259, -0.0119,  0.0162, -0.1475],\n",
       "       [ 0.2939, -0.0119,  0.4402,  0.3904,  0.2684],\n",
       "       [ 0.7116,  0.0162,  0.3904,  0.745 ,  0.4205],\n",
       "       [ 0.6357, -0.1475,  0.2684,  0.4205,  0.7285]])"
      ]
     },
     "execution_count": 18,
     "metadata": {},
     "output_type": "execute_result"
    }
   ],
   "source": [
    "inv(mat)"
   ]
  },
  {
   "cell_type": "code",
   "execution_count": 19,
   "metadata": {
    "collapsed": false
   },
   "outputs": [
    {
     "data": {
      "text/plain": [
       "array([[ 1., -0., -0.,  0.,  0.],\n",
       "       [ 0.,  1.,  0.,  0.,  0.],\n",
       "       [-0.,  0.,  1.,  0.,  0.],\n",
       "       [ 0., -0.,  0.,  1.,  0.],\n",
       "       [ 0., -0.,  0., -0.,  1.]])"
      ]
     },
     "execution_count": 19,
     "metadata": {},
     "output_type": "execute_result"
    }
   ],
   "source": [
    "mat.dot(inv(mat))"
   ]
  },
  {
   "cell_type": "code",
   "execution_count": 20,
   "metadata": {
    "collapsed": true
   },
   "outputs": [],
   "source": [
    "q,r = qr(mat)"
   ]
  },
  {
   "cell_type": "code",
   "execution_count": 21,
   "metadata": {
    "collapsed": false
   },
   "outputs": [
    {
     "data": {
      "text/plain": [
       "array([[-15.6246,  -1.1271,  -9.5478,  16.2365,   8.0108],\n",
       "       [  0.    ,  -6.0911,  -0.3476,   2.0813,  -2.7395],\n",
       "       [  0.    ,   0.    ,  -4.0104,   2.1978,   0.0759],\n",
       "       [  0.    ,   0.    ,   0.    ,  -2.013 ,   1.9611],\n",
       "       [  0.    ,   0.    ,   0.    ,   0.    ,   0.9108]])"
      ]
     },
     "execution_count": 21,
     "metadata": {},
     "output_type": "execute_result"
    }
   ],
   "source": [
    "r"
   ]
  },
  {
   "cell_type": "code",
   "execution_count": 22,
   "metadata": {
    "collapsed": false
   },
   "outputs": [
    {
     "data": {
      "text/plain": [
       "array([[-0.6639,  0.0377,  0.4336, -0.1858,  0.579 ],\n",
       "       [-0.0332, -0.9339,  0.0719, -0.3219, -0.1343],\n",
       "       [-0.2936, -0.0036, -0.887 , -0.2595,  0.2445],\n",
       "       [ 0.6   ,  0.1642,  0.1037, -0.675 ,  0.383 ],\n",
       "       [ 0.3345, -0.3155, -0.0969,  0.5822,  0.6635]])"
      ]
     },
     "execution_count": 22,
     "metadata": {},
     "output_type": "execute_result"
    }
   ],
   "source": [
    "q"
   ]
  },
  {
   "cell_type": "code",
   "execution_count": 23,
   "metadata": {
    "collapsed": true
   },
   "outputs": [],
   "source": [
    "samples = np.random.normal(size=(4,4))"
   ]
  },
  {
   "cell_type": "code",
   "execution_count": 24,
   "metadata": {
    "collapsed": false
   },
   "outputs": [
    {
     "data": {
      "text/plain": [
       "array([[ 0.3111, -0.4281,  1.237 ,  0.6572],\n",
       "       [ 0.7519,  1.0691, -0.7042, -1.0194],\n",
       "       [ 0.4322,  0.1067, -0.0545, -0.3348],\n",
       "       [-1.0264, -0.0328,  0.2341, -0.1354]])"
      ]
     },
     "execution_count": 24,
     "metadata": {},
     "output_type": "execute_result"
    }
   ],
   "source": [
    "samples"
   ]
  },
  {
   "cell_type": "code",
   "execution_count": 25,
   "metadata": {
    "collapsed": true
   },
   "outputs": [],
   "source": [
    "from random import normalvariate"
   ]
  },
  {
   "cell_type": "code",
   "execution_count": 26,
   "metadata": {
    "collapsed": true
   },
   "outputs": [],
   "source": [
    "N =1000000"
   ]
  },
  {
   "cell_type": "code",
   "execution_count": 29,
   "metadata": {
    "collapsed": false
   },
   "outputs": [
    {
     "ename": "NameError",
     "evalue": "name 'xrange' is not defined",
     "output_type": "error",
     "traceback": [
      "\u001b[0;31m---------------------------------------------------------------------------\u001b[0m",
      "\u001b[0;31mNameError\u001b[0m                                 Traceback (most recent call last)",
      "\u001b[0;32m<ipython-input-29-5bcd456e2702>\u001b[0m in \u001b[0;36m<module>\u001b[0;34m()\u001b[0m\n\u001b[0;32m----> 1\u001b[0;31m \u001b[0mget_ipython\u001b[0m\u001b[0;34m(\u001b[0m\u001b[0;34m)\u001b[0m\u001b[0;34m.\u001b[0m\u001b[0mmagic\u001b[0m\u001b[0;34m(\u001b[0m\u001b[0;34m'timeit samples = [normalvariate(0, 1) for _ in xrange(N)]'\u001b[0m\u001b[0;34m)\u001b[0m\u001b[0;34m\u001b[0m\u001b[0m\n\u001b[0m\u001b[1;32m      2\u001b[0m \u001b[0mget_ipython\u001b[0m\u001b[0;34m(\u001b[0m\u001b[0;34m)\u001b[0m\u001b[0;34m.\u001b[0m\u001b[0mmagic\u001b[0m\u001b[0;34m(\u001b[0m\u001b[0;34m'timeit np.random.normal(size=N)'\u001b[0m\u001b[0;34m)\u001b[0m\u001b[0;34m\u001b[0m\u001b[0m\n",
      "\u001b[0;32m/Users/hikari/anaconda/lib/python3.6/site-packages/IPython/core/interactiveshell.py\u001b[0m in \u001b[0;36mmagic\u001b[0;34m(self, arg_s)\u001b[0m\n\u001b[1;32m   2156\u001b[0m         \u001b[0mmagic_name\u001b[0m\u001b[0;34m,\u001b[0m \u001b[0m_\u001b[0m\u001b[0;34m,\u001b[0m \u001b[0mmagic_arg_s\u001b[0m \u001b[0;34m=\u001b[0m \u001b[0marg_s\u001b[0m\u001b[0;34m.\u001b[0m\u001b[0mpartition\u001b[0m\u001b[0;34m(\u001b[0m\u001b[0;34m' '\u001b[0m\u001b[0;34m)\u001b[0m\u001b[0;34m\u001b[0m\u001b[0m\n\u001b[1;32m   2157\u001b[0m         \u001b[0mmagic_name\u001b[0m \u001b[0;34m=\u001b[0m \u001b[0mmagic_name\u001b[0m\u001b[0;34m.\u001b[0m\u001b[0mlstrip\u001b[0m\u001b[0;34m(\u001b[0m\u001b[0mprefilter\u001b[0m\u001b[0;34m.\u001b[0m\u001b[0mESC_MAGIC\u001b[0m\u001b[0;34m)\u001b[0m\u001b[0;34m\u001b[0m\u001b[0m\n\u001b[0;32m-> 2158\u001b[0;31m         \u001b[0;32mreturn\u001b[0m \u001b[0mself\u001b[0m\u001b[0;34m.\u001b[0m\u001b[0mrun_line_magic\u001b[0m\u001b[0;34m(\u001b[0m\u001b[0mmagic_name\u001b[0m\u001b[0;34m,\u001b[0m \u001b[0mmagic_arg_s\u001b[0m\u001b[0;34m)\u001b[0m\u001b[0;34m\u001b[0m\u001b[0m\n\u001b[0m\u001b[1;32m   2159\u001b[0m \u001b[0;34m\u001b[0m\u001b[0m\n\u001b[1;32m   2160\u001b[0m     \u001b[0;31m#-------------------------------------------------------------------------\u001b[0m\u001b[0;34m\u001b[0m\u001b[0;34m\u001b[0m\u001b[0m\n",
      "\u001b[0;32m/Users/hikari/anaconda/lib/python3.6/site-packages/IPython/core/interactiveshell.py\u001b[0m in \u001b[0;36mrun_line_magic\u001b[0;34m(self, magic_name, line)\u001b[0m\n\u001b[1;32m   2077\u001b[0m                 \u001b[0mkwargs\u001b[0m\u001b[0;34m[\u001b[0m\u001b[0;34m'local_ns'\u001b[0m\u001b[0;34m]\u001b[0m \u001b[0;34m=\u001b[0m \u001b[0msys\u001b[0m\u001b[0;34m.\u001b[0m\u001b[0m_getframe\u001b[0m\u001b[0;34m(\u001b[0m\u001b[0mstack_depth\u001b[0m\u001b[0;34m)\u001b[0m\u001b[0;34m.\u001b[0m\u001b[0mf_locals\u001b[0m\u001b[0;34m\u001b[0m\u001b[0m\n\u001b[1;32m   2078\u001b[0m             \u001b[0;32mwith\u001b[0m \u001b[0mself\u001b[0m\u001b[0;34m.\u001b[0m\u001b[0mbuiltin_trap\u001b[0m\u001b[0;34m:\u001b[0m\u001b[0;34m\u001b[0m\u001b[0m\n\u001b[0;32m-> 2079\u001b[0;31m                 \u001b[0mresult\u001b[0m \u001b[0;34m=\u001b[0m \u001b[0mfn\u001b[0m\u001b[0;34m(\u001b[0m\u001b[0;34m*\u001b[0m\u001b[0margs\u001b[0m\u001b[0;34m,\u001b[0m\u001b[0;34m**\u001b[0m\u001b[0mkwargs\u001b[0m\u001b[0;34m)\u001b[0m\u001b[0;34m\u001b[0m\u001b[0m\n\u001b[0m\u001b[1;32m   2080\u001b[0m             \u001b[0;32mreturn\u001b[0m \u001b[0mresult\u001b[0m\u001b[0;34m\u001b[0m\u001b[0m\n\u001b[1;32m   2081\u001b[0m \u001b[0;34m\u001b[0m\u001b[0m\n",
      "\u001b[0;32m<decorator-gen-58>\u001b[0m in \u001b[0;36mtimeit\u001b[0;34m(self, line, cell)\u001b[0m\n",
      "\u001b[0;32m/Users/hikari/anaconda/lib/python3.6/site-packages/IPython/core/magic.py\u001b[0m in \u001b[0;36m<lambda>\u001b[0;34m(f, *a, **k)\u001b[0m\n\u001b[1;32m    186\u001b[0m     \u001b[0;31m# but it's overkill for just that one bit of state.\u001b[0m\u001b[0;34m\u001b[0m\u001b[0;34m\u001b[0m\u001b[0m\n\u001b[1;32m    187\u001b[0m     \u001b[0;32mdef\u001b[0m \u001b[0mmagic_deco\u001b[0m\u001b[0;34m(\u001b[0m\u001b[0marg\u001b[0m\u001b[0;34m)\u001b[0m\u001b[0;34m:\u001b[0m\u001b[0;34m\u001b[0m\u001b[0m\n\u001b[0;32m--> 188\u001b[0;31m         \u001b[0mcall\u001b[0m \u001b[0;34m=\u001b[0m \u001b[0;32mlambda\u001b[0m \u001b[0mf\u001b[0m\u001b[0;34m,\u001b[0m \u001b[0;34m*\u001b[0m\u001b[0ma\u001b[0m\u001b[0;34m,\u001b[0m \u001b[0;34m**\u001b[0m\u001b[0mk\u001b[0m\u001b[0;34m:\u001b[0m \u001b[0mf\u001b[0m\u001b[0;34m(\u001b[0m\u001b[0;34m*\u001b[0m\u001b[0ma\u001b[0m\u001b[0;34m,\u001b[0m \u001b[0;34m**\u001b[0m\u001b[0mk\u001b[0m\u001b[0;34m)\u001b[0m\u001b[0;34m\u001b[0m\u001b[0m\n\u001b[0m\u001b[1;32m    189\u001b[0m \u001b[0;34m\u001b[0m\u001b[0m\n\u001b[1;32m    190\u001b[0m         \u001b[0;32mif\u001b[0m \u001b[0mcallable\u001b[0m\u001b[0;34m(\u001b[0m\u001b[0marg\u001b[0m\u001b[0;34m)\u001b[0m\u001b[0;34m:\u001b[0m\u001b[0;34m\u001b[0m\u001b[0m\n",
      "\u001b[0;32m/Users/hikari/anaconda/lib/python3.6/site-packages/IPython/core/magics/execution.py\u001b[0m in \u001b[0;36mtimeit\u001b[0;34m(self, line, cell)\u001b[0m\n\u001b[1;32m   1042\u001b[0m             \u001b[0mnumber\u001b[0m \u001b[0;34m=\u001b[0m \u001b[0;36m1\u001b[0m\u001b[0;34m\u001b[0m\u001b[0m\n\u001b[1;32m   1043\u001b[0m             \u001b[0;32mfor\u001b[0m \u001b[0m_\u001b[0m \u001b[0;32min\u001b[0m \u001b[0mrange\u001b[0m\u001b[0;34m(\u001b[0m\u001b[0;36m1\u001b[0m\u001b[0;34m,\u001b[0m \u001b[0;36m10\u001b[0m\u001b[0;34m)\u001b[0m\u001b[0;34m:\u001b[0m\u001b[0;34m\u001b[0m\u001b[0m\n\u001b[0;32m-> 1044\u001b[0;31m                 \u001b[0mtime_number\u001b[0m \u001b[0;34m=\u001b[0m \u001b[0mtimer\u001b[0m\u001b[0;34m.\u001b[0m\u001b[0mtimeit\u001b[0m\u001b[0;34m(\u001b[0m\u001b[0mnumber\u001b[0m\u001b[0;34m)\u001b[0m\u001b[0;34m\u001b[0m\u001b[0m\n\u001b[0m\u001b[1;32m   1045\u001b[0m                 \u001b[0mworst_tuning\u001b[0m \u001b[0;34m=\u001b[0m \u001b[0mmax\u001b[0m\u001b[0;34m(\u001b[0m\u001b[0mworst_tuning\u001b[0m\u001b[0;34m,\u001b[0m \u001b[0mtime_number\u001b[0m \u001b[0;34m/\u001b[0m \u001b[0mnumber\u001b[0m\u001b[0;34m)\u001b[0m\u001b[0;34m\u001b[0m\u001b[0m\n\u001b[1;32m   1046\u001b[0m                 \u001b[0;32mif\u001b[0m \u001b[0mtime_number\u001b[0m \u001b[0;34m>=\u001b[0m \u001b[0;36m0.2\u001b[0m\u001b[0;34m:\u001b[0m\u001b[0;34m\u001b[0m\u001b[0m\n",
      "\u001b[0;32m/Users/hikari/anaconda/lib/python3.6/site-packages/IPython/core/magics/execution.py\u001b[0m in \u001b[0;36mtimeit\u001b[0;34m(self, number)\u001b[0m\n\u001b[1;32m    137\u001b[0m         \u001b[0mgc\u001b[0m\u001b[0;34m.\u001b[0m\u001b[0mdisable\u001b[0m\u001b[0;34m(\u001b[0m\u001b[0;34m)\u001b[0m\u001b[0;34m\u001b[0m\u001b[0m\n\u001b[1;32m    138\u001b[0m         \u001b[0;32mtry\u001b[0m\u001b[0;34m:\u001b[0m\u001b[0;34m\u001b[0m\u001b[0m\n\u001b[0;32m--> 139\u001b[0;31m             \u001b[0mtiming\u001b[0m \u001b[0;34m=\u001b[0m \u001b[0mself\u001b[0m\u001b[0;34m.\u001b[0m\u001b[0minner\u001b[0m\u001b[0;34m(\u001b[0m\u001b[0mit\u001b[0m\u001b[0;34m,\u001b[0m \u001b[0mself\u001b[0m\u001b[0;34m.\u001b[0m\u001b[0mtimer\u001b[0m\u001b[0;34m)\u001b[0m\u001b[0;34m\u001b[0m\u001b[0m\n\u001b[0m\u001b[1;32m    140\u001b[0m         \u001b[0;32mfinally\u001b[0m\u001b[0;34m:\u001b[0m\u001b[0;34m\u001b[0m\u001b[0m\n\u001b[1;32m    141\u001b[0m             \u001b[0;32mif\u001b[0m \u001b[0mgcold\u001b[0m\u001b[0;34m:\u001b[0m\u001b[0;34m\u001b[0m\u001b[0m\n",
      "\u001b[0;32m<magic-timeit>\u001b[0m in \u001b[0;36minner\u001b[0;34m(_it, _timer)\u001b[0m\n",
      "\u001b[0;31mNameError\u001b[0m: name 'xrange' is not defined"
     ]
    }
   ],
   "source": [
    "%timeit samples = [normalvariate(0, 1) for _ in xrange(N)]\n",
    "%timeit np.random.normal(size=N)"
   ]
  },
  {
   "cell_type": "code",
   "execution_count": 31,
   "metadata": {
    "collapsed": true
   },
   "outputs": [],
   "source": [
    "import random \n",
    "position = 0\n",
    "walk = [position]\n",
    "steps=1000\n",
    "for i in range(steps):\n",
    "    step = 1 if random.randint(0,1) else -1\n",
    "    position += step \n",
    "    walk.append(position)"
   ]
  },
  {
   "cell_type": "code",
   "execution_count": 39,
   "metadata": {
    "collapsed": false
   },
   "outputs": [
    {
     "ename": "NameError",
     "evalue": "name 'plt' is not defined",
     "output_type": "error",
     "traceback": [
      "\u001b[0;31m---------------------------------------------------------------------------\u001b[0m",
      "\u001b[0;31mNameError\u001b[0m                                 Traceback (most recent call last)",
      "\u001b[0;32m<ipython-input-39-c4e69632d98a>\u001b[0m in \u001b[0;36m<module>\u001b[0;34m()\u001b[0m\n\u001b[0;32m----> 1\u001b[0;31m \u001b[0mplt\u001b[0m\u001b[0;34m.\u001b[0m\u001b[0mshow\u001b[0m\u001b[0;34m(\u001b[0m\u001b[0;34m)\u001b[0m\u001b[0;34m\u001b[0m\u001b[0m\n\u001b[0m",
      "\u001b[0;31mNameError\u001b[0m: name 'plt' is not defined"
     ]
    }
   ],
   "source": [
    "plt.show()"
   ]
  },
  {
   "cell_type": "code",
   "execution_count": 37,
   "metadata": {
    "collapsed": false
   },
   "outputs": [
    {
     "data": {
      "text/plain": [
       "array([ -1,  -2,  -3,  -2,  -3,  -4,  -3,  -2,  -3,  -4,  -3,  -4,  -5,\n",
       "        -6,  -5,  -6,  -7,  -8,  -9, -10,  -9, -10,  -9,  -8,  -7,  -8,\n",
       "        -7,  -8,  -9,  -8,  -7,  -6,  -7,  -8,  -9, -10,  -9, -10, -11,\n",
       "       -10,  -9,  -8,  -7,  -6,  -7,  -6,  -7,  -6,  -5,  -6,  -7,  -6,\n",
       "        -7,  -6,  -7,  -6,  -7,  -8,  -7,  -8,  -7,  -8,  -7,  -6,  -7,\n",
       "        -6,  -7,  -6,  -5,  -6,  -7,  -8,  -9,  -8,  -7,  -8,  -9, -10,\n",
       "       -11, -10, -11, -10, -11, -10, -11, -10, -11, -10, -11, -12, -13,\n",
       "       -14, -15, -14, -13, -14, -15, -16, -17, -18, -17, -16, -17, -18,\n",
       "       -17, -16, -15, -16, -15, -16, -17, -18, -17, -18, -17, -16, -15,\n",
       "       -14, -15, -14, -13, -12, -11, -12, -11, -12, -11, -12, -11, -10,\n",
       "        -9, -10,  -9,  -8,  -7,  -6,  -7,  -8,  -7,  -8,  -7,  -8,  -7,\n",
       "        -8,  -9,  -8,  -9, -10, -11, -12, -13, -12, -13, -14, -13, -14,\n",
       "       -13, -12, -13, -12, -11, -10, -11, -12, -13, -14, -13, -12, -11,\n",
       "       -12, -11, -10,  -9,  -8,  -7,  -6,  -7,  -6,  -5,  -4,  -5,  -4,\n",
       "        -3,  -4,  -5,  -4,  -3,  -4,  -5,  -6,  -5,  -6,  -7,  -8,  -7,\n",
       "        -8,  -9, -10, -11, -12, -13, -14, -15, -14, -15, -16, -15, -16,\n",
       "       -17, -18, -19, -20, -21, -22, -21, -20, -21, -20, -21, -22, -21,\n",
       "       -20, -21, -20, -21, -22, -21, -20, -19, -20, -21, -20, -21, -22,\n",
       "       -21, -20, -19, -20, -21, -22, -23, -22, -23, -24, -23, -22, -23,\n",
       "       -22, -23, -22, -23, -24, -25, -26, -25, -26, -25, -26, -25, -24,\n",
       "       -25, -24, -23, -22, -23, -24, -23, -24, -23, -24, -25, -26, -25,\n",
       "       -24, -25, -26, -25, -26, -27, -26, -25, -24, -25, -26, -27, -26,\n",
       "       -25, -24, -25, -26, -25, -24, -25, -24, -23, -22, -23, -24, -25,\n",
       "       -26, -27, -26, -25, -26, -27, -28, -29, -30, -29, -28, -29, -28,\n",
       "       -29, -30, -31, -32, -31, -30, -29, -28, -29, -30, -29, -28, -27,\n",
       "       -26, -27, -28, -27, -28, -29, -28, -29, -28, -27, -28, -27, -28,\n",
       "       -27, -26, -27, -28, -29, -30, -29, -30, -29, -30, -31, -30, -31,\n",
       "       -32, -33, -32, -33, -32, -33, -34, -33, -32, -31, -32, -33, -34,\n",
       "       -35, -34, -33, -32, -33, -34, -35, -36, -35, -34, -33, -34, -35,\n",
       "       -36, -37, -38, -39, -38, -39, -40, -39, -38, -37, -38, -39, -38,\n",
       "       -39, -40, -41, -42, -41, -42, -43, -42, -43, -44, -43, -44, -45,\n",
       "       -46, -47, -46, -45, -44, -43, -42, -41, -42, -41, -40, -41, -42,\n",
       "       -41, -40, -41, -42, -43, -42, -41, -40, -39, -40, -41, -40, -41,\n",
       "       -40, -39, -38, -37, -36, -35, -34, -33, -34, -33, -34, -35, -36,\n",
       "       -35, -36, -35, -34, -35, -34, -33, -34, -35, -34, -35, -36, -35,\n",
       "       -36, -35, -34, -33, -34, -33, -34, -33, -34, -35, -34, -35, -36,\n",
       "       -37, -36, -35, -36, -37, -38, -37, -36, -37, -38, -39, -38, -37,\n",
       "       -36, -37, -36, -37, -38, -37, -36, -35, -34, -35, -36, -35, -36,\n",
       "       -35, -36, -37, -38, -37, -36, -35, -34, -33, -34, -35, -34, -35,\n",
       "       -36, -37, -38, -37, -38, -37, -36, -35, -36, -37, -38, -37, -36,\n",
       "       -35, -36, -35, -36, -35, -36, -37, -36, -37, -38, -39, -40, -41,\n",
       "       -42, -41, -42, -41, -42, -41, -40, -39, -38, -39, -38, -39, -40,\n",
       "       -41, -40, -39, -38, -37, -36, -37, -36, -35, -36, -35, -34, -33,\n",
       "       -34, -35, -36, -37, -36, -37, -36, -37, -38, -37, -38, -39, -38,\n",
       "       -39, -40, -39, -40, -39, -38, -37, -36, -37, -38, -39, -40, -39,\n",
       "       -38, -37, -38, -39, -40, -41, -42, -41, -40, -41, -40, -41, -42,\n",
       "       -41, -42, -41, -40, -41, -40, -39, -38, -37, -36, -35, -36, -37,\n",
       "       -38, -39, -40, -39, -38, -39, -40, -41, -42, -43, -44, -43, -44,\n",
       "       -43, -44, -45, -46, -47, -46, -47, -46, -45, -46, -47, -46, -45,\n",
       "       -46, -45, -46, -45, -44, -43, -42, -43, -44, -43, -42, -41, -40,\n",
       "       -39, -40, -39, -40, -39, -40, -39, -38, -39, -40, -41, -40, -41,\n",
       "       -40, -41, -42, -43, -42, -43, -44, -43, -44, -45, -44, -45, -46,\n",
       "       -47, -46, -45, -44, -43, -42, -43, -42, -43, -44, -45, -44, -43,\n",
       "       -44, -43, -42, -41, -40, -41, -40, -39, -38, -39, -38, -37, -36,\n",
       "       -35, -36, -35, -36, -35, -34, -35, -34, -35, -36, -35, -34, -35,\n",
       "       -34, -35, -34, -35, -34, -35, -36, -35, -36, -35, -36, -35, -34,\n",
       "       -33, -32, -31, -30, -29, -28, -27, -26, -25, -26, -27, -28, -29,\n",
       "       -28, -27, -28, -27, -28, -29, -28, -29, -30, -29, -28, -27, -28,\n",
       "       -27, -26, -27, -28, -29, -28, -29, -28, -27, -28, -29, -28, -27,\n",
       "       -28, -29, -28, -27, -28, -27, -26, -25, -26, -27, -28, -29, -30,\n",
       "       -29, -30, -31, -30, -31, -32, -33, -34, -33, -32, -31, -32, -33,\n",
       "       -32, -33, -32, -31, -32, -33, -34, -33, -32, -31, -32, -33, -32,\n",
       "       -33, -34, -33, -34, -35, -34, -35, -34, -35, -34, -35, -34, -33,\n",
       "       -34, -33, -34, -35, -34, -33, -34, -35, -36, -37, -36, -35, -34,\n",
       "       -35, -36, -37, -36, -37, -36, -37, -38, -39, -38, -39, -40, -41,\n",
       "       -42, -43, -44, -43, -42, -43, -44, -43, -44, -45, -44, -43, -44,\n",
       "       -43, -42, -43, -42, -43, -42, -41, -42, -43, -44, -43, -42, -43,\n",
       "       -44, -45, -44, -45, -44, -43, -42, -41, -42, -41, -42, -41, -40,\n",
       "       -39, -38, -37, -38, -37, -38, -37, -38, -37, -36, -35, -36, -35,\n",
       "       -36, -35, -34, -35, -36, -35, -36, -35, -34, -35, -34, -35, -36,\n",
       "       -35, -34, -33, -34, -35, -36, -35, -36, -37, -36, -37, -38, -39,\n",
       "       -40, -39, -38, -39, -38, -37, -38, -37, -36, -35, -34, -33, -32,\n",
       "       -31, -32, -33, -32, -31, -30, -31, -30, -31, -30, -29, -30, -31,\n",
       "       -32, -33, -32, -33, -34, -35, -36, -35, -34, -33, -34, -35, -34,\n",
       "       -35, -36, -37, -36, -37, -38, -37, -38, -39, -40, -39, -38, -39,\n",
       "       -40, -39, -38, -37, -38, -37, -36, -35, -34, -33, -34, -35, -34,\n",
       "       -35, -36, -37, -38, -39, -38, -39, -38, -37, -38, -39, -38])"
      ]
     },
     "execution_count": 37,
     "metadata": {},
     "output_type": "execute_result"
    }
   ],
   "source": [
    "nsteps = 1000\n",
    "draws = np.random.randint(0,2, size =nsteps)\n",
    "steps=np.where(draws > 0,1,-1)\n",
    "walk = steps.cumsum()\n",
    "walk"
   ]
  },
  {
   "cell_type": "code",
   "execution_count": 34,
   "metadata": {
    "collapsed": false
   },
   "outputs": [
    {
     "data": {
      "text/plain": [
       "-28"
      ]
     },
     "execution_count": 34,
     "metadata": {},
     "output_type": "execute_result"
    }
   ],
   "source": [
    "walk.min()"
   ]
  },
  {
   "cell_type": "code",
   "execution_count": 35,
   "metadata": {
    "collapsed": false
   },
   "outputs": [
    {
     "data": {
      "text/plain": [
       "6"
      ]
     },
     "execution_count": 35,
     "metadata": {},
     "output_type": "execute_result"
    }
   ],
   "source": [
    "walk.max()"
   ]
  },
  {
   "cell_type": "code",
   "execution_count": 36,
   "metadata": {
    "collapsed": false
   },
   "outputs": [
    {
     "data": {
      "text/plain": [
       "105"
      ]
     },
     "execution_count": 36,
     "metadata": {},
     "output_type": "execute_result"
    }
   ],
   "source": [
    "(np.abs(walk)).argmax()"
   ]
  },
  {
   "cell_type": "code",
   "execution_count": 46,
   "metadata": {
    "collapsed": true
   },
   "outputs": [],
   "source": [
    "nwalks = 5000\n",
    "nsteps =1000\n",
    "draws = np.random.randint(0,2, size=(nwalks,nsteps))\n",
    "steps = np.where(draws > 0,1,-1)\n",
    "walks = steps.cumsum(1)"
   ]
  },
  {
   "cell_type": "code",
   "execution_count": 47,
   "metadata": {
    "collapsed": false
   },
   "outputs": [
    {
     "data": {
      "text/plain": [
       "117"
      ]
     },
     "execution_count": 47,
     "metadata": {},
     "output_type": "execute_result"
    }
   ],
   "source": [
    "walks.max()"
   ]
  },
  {
   "cell_type": "code",
   "execution_count": 48,
   "metadata": {
    "collapsed": false
   },
   "outputs": [
    {
     "data": {
      "text/plain": [
       "-134"
      ]
     },
     "execution_count": 48,
     "metadata": {},
     "output_type": "execute_result"
    }
   ],
   "source": [
    "walks.min()"
   ]
  },
  {
   "cell_type": "code",
   "execution_count": 49,
   "metadata": {
    "collapsed": false
   },
   "outputs": [],
   "source": [
    "hits30 = (np.abs(walks) >= 30).any(1)"
   ]
  },
  {
   "cell_type": "code",
   "execution_count": 50,
   "metadata": {
    "collapsed": false
   },
   "outputs": [
    {
     "data": {
      "text/plain": [
       "3439"
      ]
     },
     "execution_count": 50,
     "metadata": {},
     "output_type": "execute_result"
    }
   ],
   "source": [
    "hits30.sum()"
   ]
  },
  {
   "cell_type": "code",
   "execution_count": null,
   "metadata": {
    "collapsed": true
   },
   "outputs": [],
   "source": []
  }
 ],
 "metadata": {
  "kernelspec": {
   "display_name": "Python 3",
   "language": "python",
   "name": "python3"
  },
  "language_info": {
   "codemirror_mode": {
    "name": "ipython",
    "version": 3
   },
   "file_extension": ".py",
   "mimetype": "text/x-python",
   "name": "python",
   "nbconvert_exporter": "python",
   "pygments_lexer": "ipython3",
   "version": "3.6.0"
  }
 },
 "nbformat": 4,
 "nbformat_minor": 2
}
